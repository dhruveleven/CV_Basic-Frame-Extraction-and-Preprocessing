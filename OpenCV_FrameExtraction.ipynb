{
 "cells": [
  {
   "cell_type": "code",
   "execution_count": 20,
   "id": "d392aa3d-9054-4e1f-851b-85c58918a163",
   "metadata": {},
   "outputs": [
    {
     "name": "stdout",
     "output_type": "stream",
     "text": [
      "4.10.0\n"
     ]
    }
   ],
   "source": [
    "import cv2\n",
    "import numpy\n",
    "import matplotlib \n",
    "import os\n",
    "print(cv2.__version__)"
   ]
  },
  {
   "cell_type": "code",
   "execution_count": 4,
   "id": "ded476e1-f9cc-4e54-b4d7-e0e812a2ba0d",
   "metadata": {},
   "outputs": [
    {
     "name": "stdout",
     "output_type": "stream",
     "text": [
      "Collecting pytube\n",
      "  Downloading pytube-15.0.0-py3-none-any.whl.metadata (5.0 kB)\n",
      "Downloading pytube-15.0.0-py3-none-any.whl (57 kB)\n",
      "Installing collected packages: pytube\n",
      "Successfully installed pytube-15.0.0\n"
     ]
    }
   ],
   "source": [
    "!pip install pytube"
   ]
  },
  {
   "cell_type": "code",
   "execution_count": 8,
   "id": "bce2796c-f84c-477f-8cf2-5d6750908396",
   "metadata": {},
   "outputs": [
    {
     "name": "stdout",
     "output_type": "stream",
     "text": [
      "15.0.0\n"
     ]
    }
   ],
   "source": [
    "import pytube\n",
    "print(pytube.__version__)"
   ]
  },
  {
   "cell_type": "code",
   "execution_count": 14,
   "id": "47b73937-dd23-49f8-95bf-2eb0229b9824",
   "metadata": {
    "scrolled": true
   },
   "outputs": [
    {
     "name": "stdout",
     "output_type": "stream",
     "text": [
      "Collecting yt-dlp\n",
      "  Downloading yt_dlp-2025.3.31-py3-none-any.whl.metadata (172 kB)\n",
      "Downloading yt_dlp-2025.3.31-py3-none-any.whl (3.2 MB)\n",
      "   ---------------------------------------- 0.0/3.2 MB ? eta -:--:--\n",
      "   ---------------------- ----------------- 1.8/3.2 MB 9.1 MB/s eta 0:00:01\n",
      "   ---------------------------------------- 3.2/3.2 MB 9.5 MB/s eta 0:00:00\n",
      "Installing collected packages: yt-dlp\n",
      "Successfully installed yt-dlp-2025.3.31\n"
     ]
    }
   ],
   "source": [
    "!pip install yt-dlp"
   ]
  },
  {
   "cell_type": "code",
   "execution_count": 18,
   "id": "4efd7480-dd3e-4e2f-b07c-c978f3812f97",
   "metadata": {},
   "outputs": [
    {
     "data": {
      "text/plain": [
       "0"
      ]
     },
     "execution_count": 18,
     "metadata": {},
     "output_type": "execute_result"
    }
   ],
   "source": [
    "import os\n",
    "\n",
    "url = \"https://youtu.be/oVnEPDhgSlI?si=_fKzW6W_cXjITltg\"\n",
    "output_filename = \"highlight_video.mp4\"\n",
    "\n",
    "os.system(f'yt-dlp -f best -o \"{output_filename}\" \"{url}\"')\n"
   ]
  },
  {
   "cell_type": "code",
   "execution_count": 24,
   "id": "ba6863dc-53bf-464d-b5c8-4ca0459fbff3",
   "metadata": {},
   "outputs": [
    {
     "name": "stdout",
     "output_type": "stream",
     "text": [
      "130 frame were saved to the frames_every_1s directory!\n"
     ]
    }
   ],
   "source": [
    "video_path = \"highlight_video.mp4\"\n",
    "\n",
    "output_dir = \"frames_every_1s\"\n",
    "os.makedirs(output_dir, exist_ok=True)\n",
    "\n",
    "cap=cv2.VideoCapture(video_path)\n",
    "\n",
    "fps = cap.get(cv2.CAP_PROP_FPS)\n",
    "frame_interval = int(fps)\n",
    "\n",
    "frame_count = 0\n",
    "saved_count = 0\n",
    "\n",
    "while cap.isOpened():\n",
    "    ret, frame = cap.read()\n",
    "    if not ret:\n",
    "        break\n",
    "    if frame_count % frame_interval == 0:\n",
    "        filename = os.path.join(output_dir, f\"frame_{saved_count:04d}.jpg\")\n",
    "        cv2.imwrite(filename, frame)\n",
    "        saved_count += 1\n",
    "    frame_count += 1\n",
    "\n",
    "cap.release()\n",
    "print(f\"{saved_count} frame were saved to the {output_dir} directory!\")"
   ]
  },
  {
   "cell_type": "code",
   "execution_count": null,
   "id": "9695e138-1dc9-4581-9fc8-5a3961e40e73",
   "metadata": {},
   "outputs": [],
   "source": []
  }
 ],
 "metadata": {
  "kernelspec": {
   "display_name": "Python [conda env:base] *",
   "language": "python",
   "name": "conda-base-py"
  },
  "language_info": {
   "codemirror_mode": {
    "name": "ipython",
    "version": 3
   },
   "file_extension": ".py",
   "mimetype": "text/x-python",
   "name": "python",
   "nbconvert_exporter": "python",
   "pygments_lexer": "ipython3",
   "version": "3.12.7"
  }
 },
 "nbformat": 4,
 "nbformat_minor": 5
}
