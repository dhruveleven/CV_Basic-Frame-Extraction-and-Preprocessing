{
 "cells": [
  {
   "cell_type": "code",
   "execution_count": 2,
   "id": "3f7b3731-99eb-48d2-b948-b453a09ce264",
   "metadata": {},
   "outputs": [],
   "source": [
    "import cv2\n",
    "import numpy\n",
    "import matplotlib \n",
    "import os"
   ]
  },
  {
   "cell_type": "code",
   "execution_count": 4,
   "id": "7132f741-1817-4f13-a18e-f1863d8fc471",
   "metadata": {},
   "outputs": [],
   "source": [
    "input_dir = \"frames_every_1s\"\n",
    "\n",
    "grayscale_dir = \"gray_frames\"\n",
    "blur_dir = \"blur_frames\"\n",
    "edge_dir = \"edges_frames\"\n",
    "\n",
    "os.makedirs(grayscale_dir, exist_ok=True)\n",
    "os.makedirs(blur_dir, exist_ok=True)\n",
    "os.makedirs(edge_dir, exist_ok=True)"
   ]
  },
  {
   "cell_type": "code",
   "execution_count": 14,
   "id": "9c63e8ec-0cbf-4ce3-93ef-ba1d0384979b",
   "metadata": {},
   "outputs": [
    {
     "name": "stdout",
     "output_type": "stream",
     "text": [
      "✅ Done! Applied transformations to all extracted frames.\n"
     ]
    }
   ],
   "source": [
    "for filename in sorted(os.listdir(input_dir)):\n",
    "    img_path = os.path.join(input_dir,filename)\n",
    "    img = cv2.imread(img_path)\n",
    "    if img is None:\n",
    "        print(f\"Failed to read {filename}\")\n",
    "        continue\n",
    "        \"\"\"\n",
    "    gray = cv2.cvtColor(img, cv2.COLOR_BGR2GRAY)\n",
    "    cv2.imwrite(os.path.join(grayscale_dir,filename),gray)\n",
    "\n",
    "    blur = cv2.GaussianBlur(img, (11,11), 0)\n",
    "    cv2.imwrite(os.path.join(blur_dir,filename),blur)\n",
    "    \"\"\"\n",
    "    edges = cv2.Canny(img, 100, 200)\n",
    "    cv2.imwrite(os.path.join(edge_dir,filename),edges)\n",
    "\n",
    "print(\"✅ Done! Applied transformations to all extracted frames.\")"
   ]
  },
  {
   "cell_type": "code",
   "execution_count": null,
   "id": "fa54881c-75f6-46fa-8143-a391e23066f2",
   "metadata": {},
   "outputs": [],
   "source": []
  }
 ],
 "metadata": {
  "kernelspec": {
   "display_name": "Python [conda env:base] *",
   "language": "python",
   "name": "conda-base-py"
  },
  "language_info": {
   "codemirror_mode": {
    "name": "ipython",
    "version": 3
   },
   "file_extension": ".py",
   "mimetype": "text/x-python",
   "name": "python",
   "nbconvert_exporter": "python",
   "pygments_lexer": "ipython3",
   "version": "3.12.7"
  }
 },
 "nbformat": 4,
 "nbformat_minor": 5
}
